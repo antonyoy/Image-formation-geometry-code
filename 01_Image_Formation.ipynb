{
 "cells": [
  {
   "cell_type": "markdown",
   "metadata": {},
   "source": [
    "# Pinhole Camera Model Practice Questions"
   ]
  },
  {
   "cell_type": "markdown",
   "metadata": {},
   "source": [
    "## Question 1: Perspective Projection"
   ]
  },
  {
   "cell_type": "markdown",
   "metadata": {},
   "source": [
    "A 3D point in the camera coordinate system is given by `p_c = [10, 5, 20]`. \n",
    "The camera has a focal length `f` of 50mm. \n",
    "Calculate the position of the projection of this point on the image plane in meters."
   ]
  },
  {
   "cell_type": "code",
   "execution_count": 3,
   "metadata": {},
   "outputs": [
    {
     "name": "stdout",
     "output_type": "stream",
     "text": [
      "[0.025  0.0125]\n"
     ]
    }
   ],
   "source": [
    "# Your code here\n",
    "import numpy as np\n",
    "def F15(pc,f):\n",
    "    x, y, z = pc.flatten()\n",
    "    u = (f * x) / z\n",
    "    v = (f * y) / z\n",
    "    return np.array([u, v])\n",
    "F15X=print(F15(np.array([[10], [5], [20]]),0.05))"
   ]
  },
  {
   "cell_type": "markdown",
   "metadata": {},
   "source": [
    "---"
   ]
  },
  {
   "cell_type": "markdown",
   "metadata": {},
   "source": [
    "## Question 2: Conversion to Pixels"
   ]
  },
  {
   "cell_type": "markdown",
   "metadata": {},
   "source": [
    "Given the projected point from Question 1, convert its coordinates from meters to pixels. \n",
    "Assume the following intrinsic parameters: \n",
    "- `s_x` = 800 pixels/meter\n",
    "- `s_y` = 800 pixels/meter\n",
    "- `o_x` = 320 pixels\n",
    "- `o_y` = 240 pixels\n",
    "What are the pixel coordinates `(u^I, v^I)`?"
   ]
  },
  {
   "cell_type": "code",
   "execution_count": 5,
   "metadata": {},
   "outputs": [
    {
     "name": "stdout",
     "output_type": "stream",
     "text": [
      "[340. 250.]\n"
     ]
    }
   ],
   "source": [
    "# Your code here\n",
    "def F47(u_m,v_m,s_x,s_y,o_x,o_y):\n",
    "    u_I = s_x * u_m + o_x\n",
    "    v_I = s_y * v_m + o_y\n",
    "    return np.array([u_I, v_I])\n",
    "print(F47(0.025,0.0125,800,800,320,240))"
   ]
  },
  {
   "cell_type": "markdown",
   "metadata": {},
   "source": [
    "---"
   ]
  },
  {
   "cell_type": "markdown",
   "metadata": {},
   "source": [
    "## Question 3: Intrinsic Matrix"
   ]
  },
  {
   "cell_type": "markdown",
   "metadata": {},
   "source": [
    "Construct the intrinsic calibration matrix `K` using the parameters from Question 2, assuming no skew (`s_θ = 0`)."
   ]
  },
  {
   "cell_type": "code",
   "execution_count": 6,
   "metadata": {
    "scrolled": true
   },
   "outputs": [
    {
     "name": "stdout",
     "output_type": "stream",
     "text": [
      "[[ 40.   0. 320.]\n",
      " [  0.  40. 240.]\n",
      " [  0.   0.   1.]]\n"
     ]
    }
   ],
   "source": [
    "# Your code here\n",
    "def F16(s_x,s_y,o_x,o_y,f):\n",
    "    K = np.array([\n",
    "        [s_x*f,   0,  o_x],\n",
    "        [  0,  s_y*f, o_y],\n",
    "        [  0,   0,   1 ]\n",
    "    ])\n",
    "    return K\n",
    "print(F16(800,800,320,240,0.05))"
   ]
  },
  {
   "cell_type": "markdown",
   "metadata": {},
   "source": [
    "---"
   ]
  },
  {
   "cell_type": "markdown",
   "metadata": {},
   "source": [
    "## Question 4: Point Projection with Known Pose"
   ]
  },
  {
   "cell_type": "markdown",
   "metadata": {},
   "source": [
    "A point in the world frame is given by `p_w = [2, 3, 50]`. The camera's pose `T_w^c` is given by an identity rotation matrix and a translation vector `t_w^c = [0, 0, 10]`. [cite_start]Using the intrinsic matrix `K` from Question 3, calculate the pixel coordinates of the projected point. [cite: 14, 16, 17]"
   ]
  },
  {
   "cell_type": "code",
   "execution_count": 10,
   "metadata": {},
   "outputs": [
    {
     "name": "stdout",
     "output_type": "stream",
     "text": [
      "[321.33333333 242.           1.        ]\n"
     ]
    }
   ],
   "source": [
    "# Your code here\n",
    "def F18F(p_w, t_wc, K):\n",
    "    R_wc = np.eye(3)\n",
    "\n",
    "    p_w_homog = np.append(p_w, 1)  # shape (4,)\n",
    "    \n",
    "    T_wc = np.hstack((R_wc, t_wc.reshape(3,1)))  # shape (3,4)\n",
    "\n",
    "    p_c = np.matmul(T_wc,p_w_homog)  # shape (3,)\n",
    "\n",
    "    p_img = np.matmul(K,p_c)  # shape (3,)\n",
    "    \n",
    "    u = p_img[0] / p_img[2]\n",
    "    v = p_img[1] / p_img[2]\n",
    "    k=p_img[2]/p_img[2]\n",
    "\n",
    "    return np.array([u, v,k])\n",
    "K=F16(800,800,320,240,0.05)\n",
    "print(F18F(np.array([2, 3, 50]),np.array([0,0,10]),K))"
   ]
  },
  {
   "cell_type": "markdown",
   "metadata": {},
   "source": [
    "---"
   ]
  },
  {
   "cell_type": "markdown",
   "metadata": {},
   "source": [
    "## Question 5: Radial Distortion"
   ]
  },
  {
   "cell_type": "markdown",
   "metadata": {},
   "source": [
    "A point is projected on the image plane at `(u_distort^I, v_distort^I) = (400, 350)` including radial distortion. Given distortion coefficients `a1 = 0.0001` and `a2 = 0.0000002` and the principal point `(o_x, o_y) = (320, 240)`, calculate the corrected pixel coordinates `(u^I, v^I)`."
   ]
  },
  {
   "cell_type": "code",
   "execution_count": 9,
   "metadata": {},
   "outputs": [
    {
     "name": "stdout",
     "output_type": "stream",
     "text": [
      "[6024. 8083.]\n"
     ]
    }
   ],
   "source": [
    "# Your code here\n",
    "def F22(u_distort,v_distort,o_x,o_y,a1,a2):\n",
    "    dx = u_distort - o_x\n",
    "    dy = v_distort - o_y\n",
    "\n",
    "    # Compute r^2\n",
    "    r2 = dx**2 + dy**2\n",
    "    r4 = r2**2\n",
    "\n",
    "    # Radial correction factor\n",
    "    factor = 1 + a1 * r2 + a2 * r4\n",
    "\n",
    "    # Apply distortion correction\n",
    "    u_corrected = factor * dx + o_x\n",
    "    v_corrected = factor * dy + o_y\n",
    "\n",
    "    return np.array([u_corrected, v_corrected])\n",
    "print(F22(400,350,320,240,0.0001,0.0000002))    "
   ]
  },
  {
   "cell_type": "code",
   "execution_count": null,
   "metadata": {},
   "outputs": [],
   "source": []
  }
 ],
 "metadata": {
  "kernelspec": {
   "display_name": "Python [conda env:base] *",
   "language": "python",
   "name": "conda-base-py"
  },
  "language_info": {
   "codemirror_mode": {
    "name": "ipython",
    "version": 3
   },
   "file_extension": ".py",
   "mimetype": "text/x-python",
   "name": "python",
   "nbconvert_exporter": "python",
   "pygments_lexer": "ipython3",
   "version": "3.12.7"
  }
 },
 "nbformat": 4,
 "nbformat_minor": 4
}
